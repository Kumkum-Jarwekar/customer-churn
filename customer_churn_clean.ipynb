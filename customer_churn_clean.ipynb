{
 "cells": [
  {
   "cell_type": "markdown",
   "id": "963ad508",
   "metadata": {},
   "source": [
    "# 📊 Customer Churn Prediction Project\n",
    "This notebook covers:\n",
    "- Data loading\n",
    "- Preprocessing\n",
    "- Exploratory Data Analysis\n",
    "- Model training and evaluation\n",
    "- Model saving using `joblib`\n"
   ]
  },
  {
   "cell_type": "code",
   "execution_count": null,
   "id": "e4dfac4d",
   "metadata": {},
   "outputs": [],
   "source": [
    "import pandas as pd\n",
    "import numpy as np\n",
    "import matplotlib.pyplot as plt\n",
    "import seaborn as sns\n",
    "import joblib\n",
    "\n",
    "from sklearn.model_selection import train_test_split\n",
    "from sklearn.preprocessing import LabelEncoder\n",
    "from sklearn.ensemble import RandomForestClassifier\n",
    "from sklearn.metrics import classification_report, confusion_matrix, accuracy_score, roc_auc_score, roc_curve\n",
    "\n",
    "sns.set(style='whitegrid')"
   ]
  },
  {
   "cell_type": "markdown",
   "id": "f027985c",
   "metadata": {},
   "source": [
    "## 1️⃣ Load Dataset"
   ]
  },
  {
   "cell_type": "code",
   "execution_count": null,
   "id": "11c4c44e",
   "metadata": {},
   "outputs": [],
   "source": [
    "# Update the path as needed for your environment\n",
    "data = pd.read_csv('Telco-Customer-Churn_dataset.csv')\n",
    "data.head()"
   ]
  },
  {
   "cell_type": "markdown",
   "id": "28f78424",
   "metadata": {},
   "source": [
    "## 2️⃣ Data Cleaning & Preprocessing"
   ]
  },
  {
   "cell_type": "code",
   "execution_count": null,
   "id": "50ff10cc",
   "metadata": {},
   "outputs": [],
   "source": [
    "# Drop 'customerID' as it is not useful for prediction\n",
    "data.drop('customerID', axis=1, inplace=True)\n",
    "\n",
    "# Convert 'TotalCharges' to numeric and handle missing\n",
    "data['TotalCharges'] = pd.to_numeric(data['TotalCharges'], errors='coerce')\n",
    "data.dropna(inplace=True)\n",
    "\n",
    "# Label encoding categorical columns\n",
    "cat_cols = data.select_dtypes(include='object').columns\n",
    "le = LabelEncoder()\n",
    "for col in cat_cols:\n",
    "    data[col] = le.fit_transform(data[col])\n",
    "\n",
    "data.head()"
   ]
  },
  {
   "cell_type": "markdown",
   "id": "d9edc1db",
   "metadata": {},
   "source": [
    "## 3️⃣ Exploratory Data Analysis (EDA)"
   ]
  },
  {
   "cell_type": "code",
   "execution_count": null,
   "id": "90193d28",
   "metadata": {},
   "outputs": [],
   "source": [
    "# Describe data\n",
    "data.describe()"
   ]
  },
  {
   "cell_type": "code",
   "execution_count": null,
   "id": "7ac2367a",
   "metadata": {},
   "outputs": [],
   "source": [
    "# Churn distribution\n",
    "plt.figure(figsize=(5, 4))\n",
    "sns.countplot(x='Churn', data=data)\n",
    "plt.title('Churn Distribution')\n",
    "plt.show()"
   ]
  },
  {
   "cell_type": "code",
   "execution_count": null,
   "id": "3f284b67",
   "metadata": {},
   "outputs": [],
   "source": [
    "# Correlation heatmap\n",
    "plt.figure(figsize=(12, 8))\n",
    "sns.heatmap(data.corr(), cmap='coolwarm', annot=False)\n",
    "plt.title('Correlation Heatmap')\n",
    "plt.show()"
   ]
  },
  {
   "cell_type": "markdown",
   "id": "bd525053",
   "metadata": {},
   "source": [
    "## 4️⃣ Feature and Target Split"
   ]
  },
  {
   "cell_type": "code",
   "execution_count": null,
   "id": "57161cb1",
   "metadata": {},
   "outputs": [],
   "source": [
    "X = data.drop('Churn', axis=1)\n",
    "y = data['Churn']"
   ]
  },
  {
   "cell_type": "markdown",
   "id": "9fc5fde3",
   "metadata": {},
   "source": [
    "## 5️⃣ Train-Test Split"
   ]
  },
  {
   "cell_type": "code",
   "execution_count": null,
   "id": "478c3a44",
   "metadata": {},
   "outputs": [],
   "source": [
    "X_train, X_test, y_train, y_test = train_test_split(\n",
    "    X, y, test_size=0.2, random_state=42, stratify=y\n",
    ")"
   ]
  },
  {
   "cell_type": "markdown",
   "id": "6220ff84",
   "metadata": {},
   "source": [
    "## 6️⃣ Model Building - Random Forest"
   ]
  },
  {
   "cell_type": "code",
   "execution_count": null,
   "id": "d85fcb43",
   "metadata": {},
   "outputs": [],
   "source": [
    "model = RandomForestClassifier(random_state=42)\n",
    "model.fit(X_train, y_train)\n",
    "\n",
    "y_pred = model.predict(X_test)\n",
    "y_pred_prob = model.predict_proba(X_test)[:, 1]"
   ]
  },
  {
   "cell_type": "markdown",
   "id": "9f16f45b",
   "metadata": {},
   "source": [
    "## 7️⃣ Model Evaluation"
   ]
  },
  {
   "cell_type": "code",
   "execution_count": null,
   "id": "a3cb87d7",
   "metadata": {},
   "outputs": [],
   "source": [
    "print(classification_report(y_test, y_pred))\n",
    "print(\"Accuracy:\", accuracy_score(y_test, y_pred))\n",
    "print(\"ROC-AUC Score:\", roc_auc_score(y_test, y_pred_prob))"
   ]
  },
  {
   "cell_type": "code",
   "execution_count": null,
   "id": "1968a0a3",
   "metadata": {},
   "outputs": [],
   "source": [
    "# Confusion Matrix\n",
    "conf_matrix = confusion_matrix(y_test, y_pred)\n",
    "sns.heatmap(conf_matrix, annot=True, fmt='d', cmap='Blues')\n",
    "plt.title('Confusion Matrix')\n",
    "plt.xlabel('Predicted')\n",
    "plt.ylabel('Actual')\n",
    "plt.show()"
   ]
  },
  {
   "cell_type": "code",
   "execution_count": null,
   "id": "cd611b1e",
   "metadata": {},
   "outputs": [],
   "source": [
    "# ROC Curve\n",
    "fpr, tpr, thresholds = roc_curve(y_test, y_pred_prob)\n",
    "plt.figure(figsize=(6, 5))\n",
    "plt.plot(fpr, tpr, label=f'AUC = {roc_auc_score(y_test, y_pred_prob):.2f}')\n",
    "plt.plot([0, 1], [0, 1], 'k--')\n",
    "plt.xlabel('False Positive Rate')\n",
    "plt.ylabel('True Positive Rate')\n",
    "plt.title('ROC Curve')\n",
    "plt.legend()\n",
    "plt.show()"
   ]
  },
  {
   "cell_type": "markdown",
   "id": "9306a49d",
   "metadata": {},
   "source": [
    "## 8️⃣ Feature Importance"
   ]
  },
  {
   "cell_type": "code",
   "execution_count": null,
   "id": "da37cccd",
   "metadata": {},
   "outputs": [],
   "source": [
    "importances = model.feature_importances_\n",
    "indices = np.argsort(importances)[::-1]\n",
    "features = X.columns\n",
    "\n",
    "plt.figure(figsize=(10, 6))\n",
    "sns.barplot(x=importances[indices], y=features[indices], palette='viridis')\n",
    "plt.title('Feature Importances')\n",
    "plt.show()"
   ]
  },
  {
   "cell_type": "markdown",
   "id": "bf49e6c1",
   "metadata": {},
   "source": [
    "## 9️⃣ Save the Trained Model"
   ]
  },
  {
   "cell_type": "code",
   "execution_count": null,
   "id": "94067553",
   "metadata": {},
   "outputs": [],
   "source": [
    "joblib.dump(model, 'customer_churn_model.pkl')\n",
    "print(\"Model saved as 'customer_churn_model.pkl'\")"
   ]
  },
  {
   "cell_type": "markdown",
   "id": "2cb7a582",
   "metadata": {},
   "source": [
    "✅ **Your customer churn prediction pipeline is now cleanly structured in this notebook for training, evaluation, and future model use.**"
   ]
  }
 ],
 "metadata": {},
 "nbformat": 4,
 "nbformat_minor": 5
}
